{
  "cells": [
    {
      "cell_type": "code",
      "execution_count": null,
      "metadata": {
        "colab": {
          "base_uri": "https://localhost:8080/"
        },
        "id": "j2SaU3dQ-Zcp",
        "outputId": "47cc45c4-2d1c-4b11-ad04-a682a77432f2"
      },
      "outputs": [
        {
          "output_type": "stream",
          "name": "stdout",
          "text": [
            "Requirement already satisfied: kaggle in /usr/local/lib/python3.7/dist-packages (1.5.12)\n",
            "Requirement already satisfied: requests in /usr/local/lib/python3.7/dist-packages (from kaggle) (2.23.0)\n",
            "Requirement already satisfied: urllib3 in /usr/local/lib/python3.7/dist-packages (from kaggle) (1.24.3)\n",
            "Requirement already satisfied: tqdm in /usr/local/lib/python3.7/dist-packages (from kaggle) (4.62.3)\n",
            "Requirement already satisfied: python-dateutil in /usr/local/lib/python3.7/dist-packages (from kaggle) (2.8.2)\n",
            "Requirement already satisfied: python-slugify in /usr/local/lib/python3.7/dist-packages (from kaggle) (5.0.2)\n",
            "Requirement already satisfied: six>=1.10 in /usr/local/lib/python3.7/dist-packages (from kaggle) (1.15.0)\n",
            "Requirement already satisfied: certifi in /usr/local/lib/python3.7/dist-packages (from kaggle) (2021.10.8)\n",
            "Requirement already satisfied: text-unidecode>=1.3 in /usr/local/lib/python3.7/dist-packages (from python-slugify->kaggle) (1.3)\n",
            "Requirement already satisfied: idna<3,>=2.5 in /usr/local/lib/python3.7/dist-packages (from requests->kaggle) (2.10)\n",
            "Requirement already satisfied: chardet<4,>=3.0.2 in /usr/local/lib/python3.7/dist-packages (from requests->kaggle) (3.0.4)\n"
          ]
        }
      ],
      "source": [
        "! pip install kaggle"
      ]
    },
    {
      "cell_type": "code",
      "execution_count": null,
      "metadata": {
        "id": "m61Wv3AJ93Xk"
      },
      "outputs": [],
      "source": [
        "! mkdir ~/.kaggle"
      ]
    },
    {
      "cell_type": "code",
      "execution_count": null,
      "metadata": {
        "id": "OvSsRvEk-ddm",
        "outputId": "826ca643-9408-4502-db0f-c24e3855ab7d",
        "colab": {
          "base_uri": "https://localhost:8080/"
        }
      },
      "outputs": [
        {
          "output_type": "stream",
          "name": "stdout",
          "text": [
            "cp: cannot stat 'kaggle.json': No such file or directory\n"
          ]
        }
      ],
      "source": [
        "! cp kaggle.json ~/.kaggle/"
      ]
    },
    {
      "cell_type": "code",
      "execution_count": null,
      "metadata": {
        "id": "enpoi3lM-dhs",
        "outputId": "24fc9abb-2196-4ee5-d661-f4c4e5f1bc17",
        "colab": {
          "base_uri": "https://localhost:8080/"
        }
      },
      "outputs": [
        {
          "output_type": "stream",
          "name": "stdout",
          "text": [
            "chmod: cannot access '/root/.kaggle/kaggle.json': No such file or directory\n"
          ]
        }
      ],
      "source": [
        "! chmod 600 ~/.kaggle/kaggle.json"
      ]
    },
    {
      "cell_type": "code",
      "execution_count": null,
      "metadata": {
        "colab": {
          "base_uri": "https://localhost:8080/"
        },
        "id": "ATmNza5U848F",
        "outputId": "955a890d-05df-4176-fa15-3b3e6947b3a9"
      },
      "outputs": [
        {
          "output_type": "stream",
          "name": "stdout",
          "text": [
            "Traceback (most recent call last):\n",
            "  File \"/usr/local/bin/kaggle\", line 5, in <module>\n",
            "    from kaggle.cli import main\n",
            "  File \"/usr/local/lib/python2.7/dist-packages/kaggle/__init__.py\", line 23, in <module>\n",
            "    api.authenticate()\n",
            "  File \"/usr/local/lib/python2.7/dist-packages/kaggle/api/kaggle_api_extended.py\", line 146, in authenticate\n",
            "    self.config_file, self.config_dir))\n",
            "IOError: Could not find kaggle.json. Make sure it's located in /root/.kaggle. Or use the environment method.\n"
          ]
        }
      ],
      "source": [
        "!kaggle competitions download -c g-research-crypto-forecasting"
      ]
    },
    {
      "cell_type": "code",
      "execution_count": null,
      "metadata": {
        "colab": {
          "base_uri": "https://localhost:8080/"
        },
        "id": "s9OwAxUb-nF_",
        "outputId": "60168d9e-22b9-40a2-ab3f-7357b9720138"
      },
      "outputs": [
        {
          "output_type": "stream",
          "name": "stdout",
          "text": [
            "unzip:  cannot find or open train.csv.zip, train.csv.zip.zip or train.csv.zip.ZIP.\n"
          ]
        }
      ],
      "source": [
        "!unzip train.csv.zip"
      ]
    },
    {
      "cell_type": "code",
      "execution_count": null,
      "metadata": {
        "id": "asPy6z14-9nt"
      },
      "outputs": [],
      "source": [
        "import pandas as pd \n",
        "import numpy as np "
      ]
    },
    {
      "cell_type": "code",
      "execution_count": null,
      "metadata": {
        "id": "m5jri4vQ_UFf"
      },
      "outputs": [],
      "source": [
        "df=pd.read_csv('/content/train.csv')"
      ]
    },
    {
      "cell_type": "code",
      "execution_count": null,
      "metadata": {
        "colab": {
          "base_uri": "https://localhost:8080/",
          "height": 423
        },
        "id": "MRz6KAAO_dYX",
        "outputId": "0cd76c55-9195-4e45-8bbb-5506b33b4ae0"
      },
      "outputs": [
        {
          "data": {
            "text/html": [
              "\n",
              "  <div id=\"df-31c84433-e0d0-4d9a-a98c-07c9e1e1d49a\">\n",
              "    <div class=\"colab-df-container\">\n",
              "      <div>\n",
              "<style scoped>\n",
              "    .dataframe tbody tr th:only-of-type {\n",
              "        vertical-align: middle;\n",
              "    }\n",
              "\n",
              "    .dataframe tbody tr th {\n",
              "        vertical-align: top;\n",
              "    }\n",
              "\n",
              "    .dataframe thead th {\n",
              "        text-align: right;\n",
              "    }\n",
              "</style>\n",
              "<table border=\"1\" class=\"dataframe\">\n",
              "  <thead>\n",
              "    <tr style=\"text-align: right;\">\n",
              "      <th></th>\n",
              "      <th>timestamp</th>\n",
              "      <th>Asset_ID</th>\n",
              "      <th>Count</th>\n",
              "      <th>Open</th>\n",
              "      <th>High</th>\n",
              "      <th>Low</th>\n",
              "      <th>Close</th>\n",
              "      <th>Volume</th>\n",
              "      <th>VWAP</th>\n",
              "      <th>Target</th>\n",
              "    </tr>\n",
              "  </thead>\n",
              "  <tbody>\n",
              "    <tr>\n",
              "      <th>0</th>\n",
              "      <td>1514764860</td>\n",
              "      <td>2</td>\n",
              "      <td>40.0</td>\n",
              "      <td>2376.580000</td>\n",
              "      <td>2399.500000</td>\n",
              "      <td>2357.140000</td>\n",
              "      <td>2374.590000</td>\n",
              "      <td>1.923301e+01</td>\n",
              "      <td>2373.116392</td>\n",
              "      <td>-0.004218</td>\n",
              "    </tr>\n",
              "    <tr>\n",
              "      <th>1</th>\n",
              "      <td>1514764860</td>\n",
              "      <td>0</td>\n",
              "      <td>5.0</td>\n",
              "      <td>8.530000</td>\n",
              "      <td>8.530000</td>\n",
              "      <td>8.530000</td>\n",
              "      <td>8.530000</td>\n",
              "      <td>7.838000e+01</td>\n",
              "      <td>8.530000</td>\n",
              "      <td>-0.014399</td>\n",
              "    </tr>\n",
              "    <tr>\n",
              "      <th>2</th>\n",
              "      <td>1514764860</td>\n",
              "      <td>1</td>\n",
              "      <td>229.0</td>\n",
              "      <td>13835.194000</td>\n",
              "      <td>14013.800000</td>\n",
              "      <td>13666.110000</td>\n",
              "      <td>13850.176000</td>\n",
              "      <td>3.155006e+01</td>\n",
              "      <td>13827.062093</td>\n",
              "      <td>-0.014643</td>\n",
              "    </tr>\n",
              "    <tr>\n",
              "      <th>3</th>\n",
              "      <td>1514764860</td>\n",
              "      <td>5</td>\n",
              "      <td>32.0</td>\n",
              "      <td>7.659600</td>\n",
              "      <td>7.659600</td>\n",
              "      <td>7.656700</td>\n",
              "      <td>7.657600</td>\n",
              "      <td>6.626713e+03</td>\n",
              "      <td>7.657713</td>\n",
              "      <td>-0.013922</td>\n",
              "    </tr>\n",
              "    <tr>\n",
              "      <th>4</th>\n",
              "      <td>1514764860</td>\n",
              "      <td>7</td>\n",
              "      <td>5.0</td>\n",
              "      <td>25.920000</td>\n",
              "      <td>25.920000</td>\n",
              "      <td>25.874000</td>\n",
              "      <td>25.877000</td>\n",
              "      <td>1.210873e+02</td>\n",
              "      <td>25.891363</td>\n",
              "      <td>-0.008264</td>\n",
              "    </tr>\n",
              "    <tr>\n",
              "      <th>...</th>\n",
              "      <td>...</td>\n",
              "      <td>...</td>\n",
              "      <td>...</td>\n",
              "      <td>...</td>\n",
              "      <td>...</td>\n",
              "      <td>...</td>\n",
              "      <td>...</td>\n",
              "      <td>...</td>\n",
              "      <td>...</td>\n",
              "      <td>...</td>\n",
              "    </tr>\n",
              "    <tr>\n",
              "      <th>24236801</th>\n",
              "      <td>1632182400</td>\n",
              "      <td>9</td>\n",
              "      <td>775.0</td>\n",
              "      <td>157.181571</td>\n",
              "      <td>157.250000</td>\n",
              "      <td>156.700000</td>\n",
              "      <td>156.943857</td>\n",
              "      <td>4.663725e+03</td>\n",
              "      <td>156.994319</td>\n",
              "      <td>NaN</td>\n",
              "    </tr>\n",
              "    <tr>\n",
              "      <th>24236802</th>\n",
              "      <td>1632182400</td>\n",
              "      <td>10</td>\n",
              "      <td>34.0</td>\n",
              "      <td>2437.065067</td>\n",
              "      <td>2438.000000</td>\n",
              "      <td>2430.226900</td>\n",
              "      <td>2432.907467</td>\n",
              "      <td>3.975460e+00</td>\n",
              "      <td>2434.818747</td>\n",
              "      <td>NaN</td>\n",
              "    </tr>\n",
              "    <tr>\n",
              "      <th>24236803</th>\n",
              "      <td>1632182400</td>\n",
              "      <td>13</td>\n",
              "      <td>380.0</td>\n",
              "      <td>0.091390</td>\n",
              "      <td>0.091527</td>\n",
              "      <td>0.091260</td>\n",
              "      <td>0.091349</td>\n",
              "      <td>2.193732e+06</td>\n",
              "      <td>0.091388</td>\n",
              "      <td>NaN</td>\n",
              "    </tr>\n",
              "    <tr>\n",
              "      <th>24236804</th>\n",
              "      <td>1632182400</td>\n",
              "      <td>12</td>\n",
              "      <td>177.0</td>\n",
              "      <td>0.282168</td>\n",
              "      <td>0.282438</td>\n",
              "      <td>0.281842</td>\n",
              "      <td>0.282051</td>\n",
              "      <td>1.828508e+05</td>\n",
              "      <td>0.282134</td>\n",
              "      <td>NaN</td>\n",
              "    </tr>\n",
              "    <tr>\n",
              "      <th>24236805</th>\n",
              "      <td>1632182400</td>\n",
              "      <td>11</td>\n",
              "      <td>48.0</td>\n",
              "      <td>232.695000</td>\n",
              "      <td>232.800000</td>\n",
              "      <td>232.240000</td>\n",
              "      <td>232.275000</td>\n",
              "      <td>1.035123e+02</td>\n",
              "      <td>232.569697</td>\n",
              "      <td>NaN</td>\n",
              "    </tr>\n",
              "  </tbody>\n",
              "</table>\n",
              "<p>24236806 rows × 10 columns</p>\n",
              "</div>\n",
              "      <button class=\"colab-df-convert\" onclick=\"convertToInteractive('df-31c84433-e0d0-4d9a-a98c-07c9e1e1d49a')\"\n",
              "              title=\"Convert this dataframe to an interactive table.\"\n",
              "              style=\"display:none;\">\n",
              "        \n",
              "  <svg xmlns=\"http://www.w3.org/2000/svg\" height=\"24px\"viewBox=\"0 0 24 24\"\n",
              "       width=\"24px\">\n",
              "    <path d=\"M0 0h24v24H0V0z\" fill=\"none\"/>\n",
              "    <path d=\"M18.56 5.44l.94 2.06.94-2.06 2.06-.94-2.06-.94-.94-2.06-.94 2.06-2.06.94zm-11 1L8.5 8.5l.94-2.06 2.06-.94-2.06-.94L8.5 2.5l-.94 2.06-2.06.94zm10 10l.94 2.06.94-2.06 2.06-.94-2.06-.94-.94-2.06-.94 2.06-2.06.94z\"/><path d=\"M17.41 7.96l-1.37-1.37c-.4-.4-.92-.59-1.43-.59-.52 0-1.04.2-1.43.59L10.3 9.45l-7.72 7.72c-.78.78-.78 2.05 0 2.83L4 21.41c.39.39.9.59 1.41.59.51 0 1.02-.2 1.41-.59l7.78-7.78 2.81-2.81c.8-.78.8-2.07 0-2.86zM5.41 20L4 18.59l7.72-7.72 1.47 1.35L5.41 20z\"/>\n",
              "  </svg>\n",
              "      </button>\n",
              "      \n",
              "  <style>\n",
              "    .colab-df-container {\n",
              "      display:flex;\n",
              "      flex-wrap:wrap;\n",
              "      gap: 12px;\n",
              "    }\n",
              "\n",
              "    .colab-df-convert {\n",
              "      background-color: #E8F0FE;\n",
              "      border: none;\n",
              "      border-radius: 50%;\n",
              "      cursor: pointer;\n",
              "      display: none;\n",
              "      fill: #1967D2;\n",
              "      height: 32px;\n",
              "      padding: 0 0 0 0;\n",
              "      width: 32px;\n",
              "    }\n",
              "\n",
              "    .colab-df-convert:hover {\n",
              "      background-color: #E2EBFA;\n",
              "      box-shadow: 0px 1px 2px rgba(60, 64, 67, 0.3), 0px 1px 3px 1px rgba(60, 64, 67, 0.15);\n",
              "      fill: #174EA6;\n",
              "    }\n",
              "\n",
              "    [theme=dark] .colab-df-convert {\n",
              "      background-color: #3B4455;\n",
              "      fill: #D2E3FC;\n",
              "    }\n",
              "\n",
              "    [theme=dark] .colab-df-convert:hover {\n",
              "      background-color: #434B5C;\n",
              "      box-shadow: 0px 1px 3px 1px rgba(0, 0, 0, 0.15);\n",
              "      filter: drop-shadow(0px 1px 2px rgba(0, 0, 0, 0.3));\n",
              "      fill: #FFFFFF;\n",
              "    }\n",
              "  </style>\n",
              "\n",
              "      <script>\n",
              "        const buttonEl =\n",
              "          document.querySelector('#df-31c84433-e0d0-4d9a-a98c-07c9e1e1d49a button.colab-df-convert');\n",
              "        buttonEl.style.display =\n",
              "          google.colab.kernel.accessAllowed ? 'block' : 'none';\n",
              "\n",
              "        async function convertToInteractive(key) {\n",
              "          const element = document.querySelector('#df-31c84433-e0d0-4d9a-a98c-07c9e1e1d49a');\n",
              "          const dataTable =\n",
              "            await google.colab.kernel.invokeFunction('convertToInteractive',\n",
              "                                                     [key], {});\n",
              "          if (!dataTable) return;\n",
              "\n",
              "          const docLinkHtml = 'Like what you see? Visit the ' +\n",
              "            '<a target=\"_blank\" href=https://colab.research.google.com/notebooks/data_table.ipynb>data table notebook</a>'\n",
              "            + ' to learn more about interactive tables.';\n",
              "          element.innerHTML = '';\n",
              "          dataTable['output_type'] = 'display_data';\n",
              "          await google.colab.output.renderOutput(dataTable, element);\n",
              "          const docLink = document.createElement('div');\n",
              "          docLink.innerHTML = docLinkHtml;\n",
              "          element.appendChild(docLink);\n",
              "        }\n",
              "      </script>\n",
              "    </div>\n",
              "  </div>\n",
              "  "
            ],
            "text/plain": [
              "           timestamp  Asset_ID  Count  ...        Volume          VWAP    Target\n",
              "0         1514764860         2   40.0  ...  1.923301e+01   2373.116392 -0.004218\n",
              "1         1514764860         0    5.0  ...  7.838000e+01      8.530000 -0.014399\n",
              "2         1514764860         1  229.0  ...  3.155006e+01  13827.062093 -0.014643\n",
              "3         1514764860         5   32.0  ...  6.626713e+03      7.657713 -0.013922\n",
              "4         1514764860         7    5.0  ...  1.210873e+02     25.891363 -0.008264\n",
              "...              ...       ...    ...  ...           ...           ...       ...\n",
              "24236801  1632182400         9  775.0  ...  4.663725e+03    156.994319       NaN\n",
              "24236802  1632182400        10   34.0  ...  3.975460e+00   2434.818747       NaN\n",
              "24236803  1632182400        13  380.0  ...  2.193732e+06      0.091388       NaN\n",
              "24236804  1632182400        12  177.0  ...  1.828508e+05      0.282134       NaN\n",
              "24236805  1632182400        11   48.0  ...  1.035123e+02    232.569697       NaN\n",
              "\n",
              "[24236806 rows x 10 columns]"
            ]
          },
          "execution_count": 11,
          "metadata": {},
          "output_type": "execute_result"
        }
      ],
      "source": [
        "df"
      ]
    },
    {
      "cell_type": "code",
      "execution_count": null,
      "metadata": {
        "colab": {
          "base_uri": "https://localhost:8080/"
        },
        "id": "lkj0b1PD_e5g",
        "outputId": "6a379996-453a-4c80-b90a-879a15c1f5ce"
      },
      "outputs": [
        {
          "data": {
            "text/plain": [
              "(24236806, 10)"
            ]
          },
          "execution_count": 12,
          "metadata": {},
          "output_type": "execute_result"
        }
      ],
      "source": [
        "df.shape"
      ]
    },
    {
      "cell_type": "code",
      "execution_count": null,
      "metadata": {
        "id": "lmvtgtWzH__E"
      },
      "outputs": [],
      "source": [
        "from datetime import datetime\n",
        "df['date'] = pd.to_datetime(df['timestamp'], unit = 's')\n",
        "df = df.sort_values('date')\n",
        "groups = pd.factorize(df['date'].dt.day.astype(str) + '_' + df['date'].dt.month.astype(str) + '_' + df['date'].dt.year.astype(str))[0]"
      ]
    },
    {
      "cell_type": "code",
      "execution_count": null,
      "metadata": {
        "id": "Jx0SJ1geARgU"
      },
      "outputs": [],
      "source": [
        "btc = df[df[\"Asset_ID\"]==1].set_index(\"date\")"
      ]
    },
    {
      "cell_type": "code",
      "execution_count": null,
      "metadata": {
        "colab": {
          "base_uri": "https://localhost:8080/",
          "height": 455
        },
        "id": "Kz92OUYNFGyJ",
        "outputId": "1e1d0a09-df5f-4536-aa90-22fd388fe81d"
      },
      "outputs": [
        {
          "data": {
            "text/html": [
              "\n",
              "  <div id=\"df-f4107bf5-e47d-48e0-bccb-3733384e5d1a\">\n",
              "    <div class=\"colab-df-container\">\n",
              "      <div>\n",
              "<style scoped>\n",
              "    .dataframe tbody tr th:only-of-type {\n",
              "        vertical-align: middle;\n",
              "    }\n",
              "\n",
              "    .dataframe tbody tr th {\n",
              "        vertical-align: top;\n",
              "    }\n",
              "\n",
              "    .dataframe thead th {\n",
              "        text-align: right;\n",
              "    }\n",
              "</style>\n",
              "<table border=\"1\" class=\"dataframe\">\n",
              "  <thead>\n",
              "    <tr style=\"text-align: right;\">\n",
              "      <th></th>\n",
              "      <th>timestamp</th>\n",
              "      <th>Asset_ID</th>\n",
              "      <th>Count</th>\n",
              "      <th>Open</th>\n",
              "      <th>High</th>\n",
              "      <th>Low</th>\n",
              "      <th>Close</th>\n",
              "      <th>Volume</th>\n",
              "      <th>VWAP</th>\n",
              "      <th>Target</th>\n",
              "    </tr>\n",
              "    <tr>\n",
              "      <th>date</th>\n",
              "      <th></th>\n",
              "      <th></th>\n",
              "      <th></th>\n",
              "      <th></th>\n",
              "      <th></th>\n",
              "      <th></th>\n",
              "      <th></th>\n",
              "      <th></th>\n",
              "      <th></th>\n",
              "      <th></th>\n",
              "    </tr>\n",
              "  </thead>\n",
              "  <tbody>\n",
              "    <tr>\n",
              "      <th>2018-01-01 00:01:00</th>\n",
              "      <td>1514764860</td>\n",
              "      <td>1</td>\n",
              "      <td>229.0</td>\n",
              "      <td>13835.194000</td>\n",
              "      <td>14013.800000</td>\n",
              "      <td>13666.11</td>\n",
              "      <td>13850.176000</td>\n",
              "      <td>31.550062</td>\n",
              "      <td>13827.062093</td>\n",
              "      <td>-0.014643</td>\n",
              "    </tr>\n",
              "    <tr>\n",
              "      <th>2018-01-01 00:02:00</th>\n",
              "      <td>1514764920</td>\n",
              "      <td>1</td>\n",
              "      <td>235.0</td>\n",
              "      <td>13835.036000</td>\n",
              "      <td>14052.300000</td>\n",
              "      <td>13680.00</td>\n",
              "      <td>13828.102000</td>\n",
              "      <td>31.046432</td>\n",
              "      <td>13840.362591</td>\n",
              "      <td>-0.015037</td>\n",
              "    </tr>\n",
              "    <tr>\n",
              "      <th>2018-01-01 00:03:00</th>\n",
              "      <td>1514764980</td>\n",
              "      <td>1</td>\n",
              "      <td>528.0</td>\n",
              "      <td>13823.900000</td>\n",
              "      <td>14000.400000</td>\n",
              "      <td>13601.00</td>\n",
              "      <td>13801.314000</td>\n",
              "      <td>55.061820</td>\n",
              "      <td>13806.068014</td>\n",
              "      <td>-0.010309</td>\n",
              "    </tr>\n",
              "    <tr>\n",
              "      <th>2018-01-01 00:04:00</th>\n",
              "      <td>1514765040</td>\n",
              "      <td>1</td>\n",
              "      <td>435.0</td>\n",
              "      <td>13802.512000</td>\n",
              "      <td>13999.000000</td>\n",
              "      <td>13576.28</td>\n",
              "      <td>13768.040000</td>\n",
              "      <td>38.780529</td>\n",
              "      <td>13783.598101</td>\n",
              "      <td>-0.008999</td>\n",
              "    </tr>\n",
              "    <tr>\n",
              "      <th>2018-01-01 00:05:00</th>\n",
              "      <td>1514765100</td>\n",
              "      <td>1</td>\n",
              "      <td>742.0</td>\n",
              "      <td>13766.000000</td>\n",
              "      <td>13955.900000</td>\n",
              "      <td>13554.44</td>\n",
              "      <td>13724.914000</td>\n",
              "      <td>108.501637</td>\n",
              "      <td>13735.586842</td>\n",
              "      <td>-0.008079</td>\n",
              "    </tr>\n",
              "    <tr>\n",
              "      <th>...</th>\n",
              "      <td>...</td>\n",
              "      <td>...</td>\n",
              "      <td>...</td>\n",
              "      <td>...</td>\n",
              "      <td>...</td>\n",
              "      <td>...</td>\n",
              "      <td>...</td>\n",
              "      <td>...</td>\n",
              "      <td>...</td>\n",
              "      <td>...</td>\n",
              "    </tr>\n",
              "    <tr>\n",
              "      <th>2021-09-20 23:56:00</th>\n",
              "      <td>1632182160</td>\n",
              "      <td>1</td>\n",
              "      <td>1940.0</td>\n",
              "      <td>42983.780000</td>\n",
              "      <td>43001.850849</td>\n",
              "      <td>42878.26</td>\n",
              "      <td>42899.012857</td>\n",
              "      <td>56.850913</td>\n",
              "      <td>42935.489499</td>\n",
              "      <td>NaN</td>\n",
              "    </tr>\n",
              "    <tr>\n",
              "      <th>2021-09-20 23:57:00</th>\n",
              "      <td>1632182220</td>\n",
              "      <td>1</td>\n",
              "      <td>2026.0</td>\n",
              "      <td>42904.197143</td>\n",
              "      <td>42932.000000</td>\n",
              "      <td>42840.16</td>\n",
              "      <td>42860.005714</td>\n",
              "      <td>80.993326</td>\n",
              "      <td>42879.576084</td>\n",
              "      <td>NaN</td>\n",
              "    </tr>\n",
              "    <tr>\n",
              "      <th>2021-09-20 23:58:00</th>\n",
              "      <td>1632182280</td>\n",
              "      <td>1</td>\n",
              "      <td>1986.0</td>\n",
              "      <td>42859.385714</td>\n",
              "      <td>42887.500000</td>\n",
              "      <td>42797.20</td>\n",
              "      <td>42827.020000</td>\n",
              "      <td>65.677734</td>\n",
              "      <td>42844.090693</td>\n",
              "      <td>NaN</td>\n",
              "    </tr>\n",
              "    <tr>\n",
              "      <th>2021-09-20 23:59:00</th>\n",
              "      <td>1632182340</td>\n",
              "      <td>1</td>\n",
              "      <td>4047.0</td>\n",
              "      <td>42839.012802</td>\n",
              "      <td>43042.160000</td>\n",
              "      <td>42818.10</td>\n",
              "      <td>43017.277143</td>\n",
              "      <td>138.335477</td>\n",
              "      <td>42935.761938</td>\n",
              "      <td>NaN</td>\n",
              "    </tr>\n",
              "    <tr>\n",
              "      <th>2021-09-21 00:00:00</th>\n",
              "      <td>1632182400</td>\n",
              "      <td>1</td>\n",
              "      <td>2698.0</td>\n",
              "      <td>43009.961250</td>\n",
              "      <td>43048.510000</td>\n",
              "      <td>42961.64</td>\n",
              "      <td>43002.505000</td>\n",
              "      <td>128.206820</td>\n",
              "      <td>43011.414052</td>\n",
              "      <td>NaN</td>\n",
              "    </tr>\n",
              "  </tbody>\n",
              "</table>\n",
              "<p>1956282 rows × 10 columns</p>\n",
              "</div>\n",
              "      <button class=\"colab-df-convert\" onclick=\"convertToInteractive('df-f4107bf5-e47d-48e0-bccb-3733384e5d1a')\"\n",
              "              title=\"Convert this dataframe to an interactive table.\"\n",
              "              style=\"display:none;\">\n",
              "        \n",
              "  <svg xmlns=\"http://www.w3.org/2000/svg\" height=\"24px\"viewBox=\"0 0 24 24\"\n",
              "       width=\"24px\">\n",
              "    <path d=\"M0 0h24v24H0V0z\" fill=\"none\"/>\n",
              "    <path d=\"M18.56 5.44l.94 2.06.94-2.06 2.06-.94-2.06-.94-.94-2.06-.94 2.06-2.06.94zm-11 1L8.5 8.5l.94-2.06 2.06-.94-2.06-.94L8.5 2.5l-.94 2.06-2.06.94zm10 10l.94 2.06.94-2.06 2.06-.94-2.06-.94-.94-2.06-.94 2.06-2.06.94z\"/><path d=\"M17.41 7.96l-1.37-1.37c-.4-.4-.92-.59-1.43-.59-.52 0-1.04.2-1.43.59L10.3 9.45l-7.72 7.72c-.78.78-.78 2.05 0 2.83L4 21.41c.39.39.9.59 1.41.59.51 0 1.02-.2 1.41-.59l7.78-7.78 2.81-2.81c.8-.78.8-2.07 0-2.86zM5.41 20L4 18.59l7.72-7.72 1.47 1.35L5.41 20z\"/>\n",
              "  </svg>\n",
              "      </button>\n",
              "      \n",
              "  <style>\n",
              "    .colab-df-container {\n",
              "      display:flex;\n",
              "      flex-wrap:wrap;\n",
              "      gap: 12px;\n",
              "    }\n",
              "\n",
              "    .colab-df-convert {\n",
              "      background-color: #E8F0FE;\n",
              "      border: none;\n",
              "      border-radius: 50%;\n",
              "      cursor: pointer;\n",
              "      display: none;\n",
              "      fill: #1967D2;\n",
              "      height: 32px;\n",
              "      padding: 0 0 0 0;\n",
              "      width: 32px;\n",
              "    }\n",
              "\n",
              "    .colab-df-convert:hover {\n",
              "      background-color: #E2EBFA;\n",
              "      box-shadow: 0px 1px 2px rgba(60, 64, 67, 0.3), 0px 1px 3px 1px rgba(60, 64, 67, 0.15);\n",
              "      fill: #174EA6;\n",
              "    }\n",
              "\n",
              "    [theme=dark] .colab-df-convert {\n",
              "      background-color: #3B4455;\n",
              "      fill: #D2E3FC;\n",
              "    }\n",
              "\n",
              "    [theme=dark] .colab-df-convert:hover {\n",
              "      background-color: #434B5C;\n",
              "      box-shadow: 0px 1px 3px 1px rgba(0, 0, 0, 0.15);\n",
              "      filter: drop-shadow(0px 1px 2px rgba(0, 0, 0, 0.3));\n",
              "      fill: #FFFFFF;\n",
              "    }\n",
              "  </style>\n",
              "\n",
              "      <script>\n",
              "        const buttonEl =\n",
              "          document.querySelector('#df-f4107bf5-e47d-48e0-bccb-3733384e5d1a button.colab-df-convert');\n",
              "        buttonEl.style.display =\n",
              "          google.colab.kernel.accessAllowed ? 'block' : 'none';\n",
              "\n",
              "        async function convertToInteractive(key) {\n",
              "          const element = document.querySelector('#df-f4107bf5-e47d-48e0-bccb-3733384e5d1a');\n",
              "          const dataTable =\n",
              "            await google.colab.kernel.invokeFunction('convertToInteractive',\n",
              "                                                     [key], {});\n",
              "          if (!dataTable) return;\n",
              "\n",
              "          const docLinkHtml = 'Like what you see? Visit the ' +\n",
              "            '<a target=\"_blank\" href=https://colab.research.google.com/notebooks/data_table.ipynb>data table notebook</a>'\n",
              "            + ' to learn more about interactive tables.';\n",
              "          element.innerHTML = '';\n",
              "          dataTable['output_type'] = 'display_data';\n",
              "          await google.colab.output.renderOutput(dataTable, element);\n",
              "          const docLink = document.createElement('div');\n",
              "          docLink.innerHTML = docLinkHtml;\n",
              "          element.appendChild(docLink);\n",
              "        }\n",
              "      </script>\n",
              "    </div>\n",
              "  </div>\n",
              "  "
            ],
            "text/plain": [
              "                      timestamp  Asset_ID  ...          VWAP    Target\n",
              "date                                       ...                        \n",
              "2018-01-01 00:01:00  1514764860         1  ...  13827.062093 -0.014643\n",
              "2018-01-01 00:02:00  1514764920         1  ...  13840.362591 -0.015037\n",
              "2018-01-01 00:03:00  1514764980         1  ...  13806.068014 -0.010309\n",
              "2018-01-01 00:04:00  1514765040         1  ...  13783.598101 -0.008999\n",
              "2018-01-01 00:05:00  1514765100         1  ...  13735.586842 -0.008079\n",
              "...                         ...       ...  ...           ...       ...\n",
              "2021-09-20 23:56:00  1632182160         1  ...  42935.489499       NaN\n",
              "2021-09-20 23:57:00  1632182220         1  ...  42879.576084       NaN\n",
              "2021-09-20 23:58:00  1632182280         1  ...  42844.090693       NaN\n",
              "2021-09-20 23:59:00  1632182340         1  ...  42935.761938       NaN\n",
              "2021-09-21 00:00:00  1632182400         1  ...  43011.414052       NaN\n",
              "\n",
              "[1956282 rows x 10 columns]"
            ]
          },
          "execution_count": 46,
          "metadata": {},
          "output_type": "execute_result"
        }
      ],
      "source": [
        "btc"
      ]
    },
    {
      "cell_type": "code",
      "execution_count": null,
      "metadata": {
        "colab": {
          "base_uri": "https://localhost:8080/"
        },
        "id": "OmAiaJECFH0h",
        "outputId": "db6d4c97-49ae-416c-9ba5-9cf90fd54f13"
      },
      "outputs": [
        {
          "data": {
            "text/plain": [
              "timestamp      0\n",
              "Asset_ID       0\n",
              "Count          0\n",
              "Open           0\n",
              "High           0\n",
              "Low            0\n",
              "Close          0\n",
              "Volume         0\n",
              "VWAP           0\n",
              "Target       304\n",
              "dtype: int64"
            ]
          },
          "execution_count": 47,
          "metadata": {},
          "output_type": "execute_result"
        }
      ],
      "source": [
        "btc.isna().sum()"
      ]
    },
    {
      "cell_type": "code",
      "execution_count": null,
      "metadata": {
        "colab": {
          "base_uri": "https://localhost:8080/"
        },
        "id": "YKm3GJlnFKK4",
        "outputId": "cad430e5-308d-4e9c-ca05-88a39f199690"
      },
      "outputs": [
        {
          "data": {
            "text/plain": [
              "<bound method NDFrame.describe of                       timestamp  Asset_ID  ...          VWAP    Target\n",
              "date                                       ...                        \n",
              "2018-01-01 00:01:00  1514764860         1  ...  13827.062093 -0.014643\n",
              "2018-01-01 00:02:00  1514764920         1  ...  13840.362591 -0.015037\n",
              "2018-01-01 00:03:00  1514764980         1  ...  13806.068014 -0.010309\n",
              "2018-01-01 00:04:00  1514765040         1  ...  13783.598101 -0.008999\n",
              "2018-01-01 00:05:00  1514765100         1  ...  13735.586842 -0.008079\n",
              "...                         ...       ...  ...           ...       ...\n",
              "2021-09-20 23:56:00  1632182160         1  ...  42935.489499       NaN\n",
              "2021-09-20 23:57:00  1632182220         1  ...  42879.576084       NaN\n",
              "2021-09-20 23:58:00  1632182280         1  ...  42844.090693       NaN\n",
              "2021-09-20 23:59:00  1632182340         1  ...  42935.761938       NaN\n",
              "2021-09-21 00:00:00  1632182400         1  ...  43011.414052       NaN\n",
              "\n",
              "[1956282 rows x 10 columns]>"
            ]
          },
          "execution_count": 48,
          "metadata": {},
          "output_type": "execute_result"
        }
      ],
      "source": [
        "btc.describe"
      ]
    },
    {
      "cell_type": "code",
      "execution_count": null,
      "metadata": {
        "id": "1G0kAbMOFqcW"
      },
      "outputs": [],
      "source": [
        "import plotly.graph_objects as go"
      ]
    },
    {
      "cell_type": "code",
      "execution_count": null,
      "metadata": {
        "id": "x2Yu2N9OKLfj"
      },
      "outputs": [],
      "source": [
        "from datetime import datetime\n",
        "from plotly.offline import iplot"
      ]
    },
    {
      "cell_type": "code",
      "execution_count": null,
      "metadata": {
        "id": "Y4pE4VjaPggb"
      },
      "outputs": [],
      "source": [
        "btc_mini = btc.iloc[-200:]"
      ]
    },
    {
      "cell_type": "code",
      "execution_count": null,
      "metadata": {
        "id": "_d_As1SUH10z"
      },
      "outputs": [],
      "source": [
        "fig = go.Figure(data=[go.Candlestick(x=btc_mini.index, open=btc_mini['Open'], high=btc_mini['High'], low=btc_mini['Low'], close=btc_mini['Close'])])"
      ]
    },
    {
      "cell_type": "code",
      "execution_count": null,
      "metadata": {
        "colab": {
          "base_uri": "https://localhost:8080/",
          "height": 542
        },
        "id": "FzabHx_fImsJ",
        "outputId": "ede52f09-1d03-4398-bdae-5c6dc79e78c3"
      },
      "outputs": [
        {
          "data": {
            "text/html": [
              "<html>\n",
              "<head><meta charset=\"utf-8\" /></head>\n",
              "<body>\n",
              "    <div>\n",
              "            <script src=\"https://cdnjs.cloudflare.com/ajax/libs/mathjax/2.7.5/MathJax.js?config=TeX-AMS-MML_SVG\"></script><script type=\"text/javascript\">if (window.MathJax) {MathJax.Hub.Config({SVG: {font: \"STIX-Web\"}});}</script>\n",
              "                <script type=\"text/javascript\">window.PlotlyConfig = {MathJaxConfig: 'local'};</script>\n",
              "        <script src=\"https://cdn.plot.ly/plotly-latest.min.js\"></script>    \n",
              "            <div id=\"e4aa8d05-1c63-4285-b82f-645068137555\" class=\"plotly-graph-div\" style=\"height:525px; width:100%;\"></div>\n",
              "            <script type=\"text/javascript\">\n",
              "                \n",
              "                    window.PLOTLYENV=window.PLOTLYENV || {};\n",
              "                    \n",
              "                if (document.getElementById(\"e4aa8d05-1c63-4285-b82f-645068137555\")) {\n",
              "                    Plotly.newPlot(\n",
              "                        'e4aa8d05-1c63-4285-b82f-645068137555',\n",
              "                        [{\"close\": [43447.00375, 43440.0, 43360.72375, 43427.24285714286, 43375.04, 43391.2775, 43328.33142857143, 43333.292857142864, 43272.205714285716, 43302.26142857143, 43237.22857142857, 43293.438571428575, 43335.397142857146, 43329.36, 43315.57857142857, 43358.98, 43401.56125, 43496.01714285714, 43543.944285714286, 43735.24749999998, 43635.8, 43565.93714285714, 43445.9742505125, 43582.882500000014, 43509.89375, 43583.13375, 43620.45625000002, 43683.955, 43688.792857142864, 43748.37285714286, 43733.61857142858, 43770.91142857143, 43725.21247342, 43699.93519433285, 43681.41125, 43663.37142857142, 43674.12714285714, 43735.2968762825, 43761.40857142857, 43804.98142857143, 43748.64871729857, 43754.64400535857, 43761.9313146925, 43745.054649555714, 43749.41395637714, 43704.05428571429, 43754.37857142858, 43752.16000000002, 43752.56428571429, 43742.16285714285, 43722.25010413143, 43698.399835418575, 43678.80153424286, 43688.294285714284, 43673.78428571428, 43674.93714285714, 43696.93209772, 43696.218571428566, 43688.90142857142, 43680.15714285715, 43699.025714285715, 43731.864285714284, 43747.49428571429, 43762.665714285715, 43851.00774273375, 43796.60571428571, 43767.107142857145, 43685.150000000016, 43691.55, 43724.642857142855, 43737.69285714287, 43651.975714285705, 43596.42285714286, 43623.89428571428, 43635.89571428572, 43561.85142857144, 43536.077925855716, 43480.374285714286, 43514.82, 43608.345714285715, 43568.90142857143, 43554.05285714286, 43631.01714285714, 43631.90714285714, 43537.49, 43597.75303396001, 43648.514285714286, 43697.334285714285, 43707.43, 43726.24681658715, 43765.792857142864, 43715.65571428572, 43715.125714285714, 43710.31428571429, 43731.00625, 43770.145714285725, 43814.85571428571, 43816.27125000001, 43806.570000000014, 43806.79142857143, 43770.66857142857, 43799.1, 43833.474285714285, 43811.704285714295, 43843.44, 43832.01571428571, 43786.385714285716, 43769.188571428575, 43774.467142857146, 43796.19, 43797.205714285716, 43798.15714285714, 43804.611428571436, 43831.59142857143, 43871.69625, 43897.16857142858, 43901.38285714285, 43883.258953421435, 43862.52, 43894.77857142857, 43866.73499999999, 43845.84857142857, 43823.298571428575, 43752.76714285714, 43703.374285714286, 43669.07857142857, 43642.77285714285, 43615.38, 43504.42428571429, 43367.885714285716, 43316.7225, 43295.044285714284, 43250.165714285715, 43075.9025, 43232.90125, 43259.1575, 43293.7075, 43305.09857142857, 43327.79, 43356.28068103, 43344.55857142858, 43484.61375, 43580.82375, 43470.794999999984, 43198.788571428566, 43213.69, 43269.54714285715, 43239.26125, 43114.23614144125, 43067.63, 43060.81, 42991.2775, 42989.62375, 43219.33125, 43140.19135458125, 43198.24000000001, 43110.797500000015, 43157.72298172143, 43099.1575, 43051.08285714287, 42966.91285714286, 43009.43142857143, 42880.67875, 42822.040000000015, 42699.178750000014, 42778.885, 42779.71, 42700.44625, 42659.58241635572, 42600.39625, 42624.279999999984, 42577.0, 42679.60625, 42678.21816655625, 42762.514285714286, 42825.295, 42736.6525, 42769.39571428571, 42637.115, 42703.63625, 42781.97057111125, 42755.5925, 42717.23428571428, 42657.20249999999, 42678.72142857143, 42778.29125, 42790.17571428571, 42731.73142857143, 42898.565, 42939.64571428572, 42927.167142857135, 42979.83375, 42960.60142857144, 42985.48285714286, 42985.21482412572, 42899.01285714287, 42860.00571428572, 42827.02, 43017.277142857136, 43002.505], \"high\": [43588.68, 43495.95402838, 43455.2184781, 43454.99, 43467.0, 43405.0, 43407.7, 43350.0, 43344.99, 43315.99, 43317.0, 43318.8, 43353.43, 43363.82, 43341.56, 43372.8, 43436.99, 43512.7, 43581.88, 43750.27, 43749.6, 43636.4, 43587.1, 43609.1, 43617.0, 43611.11, 43634.01, 43715.6675949, 43707.74, 43763.7, 43766.35, 43798.21, 43780.0, 43726.0, 43731.0, 43702.91, 43684.24, 43773.35, 43784.1, 43818.17, 43810.0, 43766.0, 43790.0, 43774.0, 43760.01, 43763.66, 43773.4, 43768.62, 43776.0, 43768.53, 43750.0, 43746.7, 43708.0, 43701.5, 43701.5, 43689.0, 43716.49468404, 43709.0, 43703.62, 43723.37, 43708.47, 43754.58, 43757.98, 43776.38, 43882.75, 43913.83, 43813.0, 43788.8, 43704.19, 43738.0, 43746.19, 43747.0, 43672.0, 43639.5, 43651.0, 43647.45, 43582.0, 43550.99, 43524.0, 43618.15, 43652.3, 43587.51, 43654.6, 43682.6, 43646.0, 43614.93123772, 43660.09, 43708.05, 43744.4, 43776.1, 43785.75, 43779.05, 43756.0, 43782.7, 43777.2, 43782.74, 43830.0, 43835.6, 43835.5, 43833.6, 43867.04, 43805.3, 43861.08, 43848.1, 43860.78, 43866.41, 43840.14, 43808.31, 43800.0, 43812.4, 43818.6, 43818.4, 43821.1, 43840.7, 43910.99, 43912.1, 43940.0, 43912.0, 43908.5, 43906.71, 43906.73, 43874.98, 43851.4, 43843.87, 43782.1, 43721.3, 43699.8, 43679.99, 43633.3, 43560.02, 43417.91, 43354.59, 43359.44, 43259.3, 43281.0, 43301.61947119, 43320.02, 43348.22, 43366.0, 43391.85, 43376.0, 43546.61, 43640.0, 43627.0, 43455.0, 43276.57, 43366.0, 43288.47, 43287.5, 43133.15, 43099.98, 43072.2, 43069.67, 43289.9, 43350.5, 43229.1, 43247.5, 43193.54, 43172.9, 43122.0, 43082.02, 43029.49, 43015.0, 42897.0, 42884.85, 42836.33, 42811.0, 42852.0, 42719.98, 42779.1, 42703.01, 42650.0, 42705.0, 42802.54, 42862.0, 42877.82, 42846.0, 42833.9, 42841.99, 42736.9, 42819.38, 42827.1, 42811.3, 42752.0, 42715.99, 42810.26, 42828.0, 42827.7, 42937.31, 42966.98, 42971.95, 43014.98, 43005.65, 43008.85, 43006.54, 43001.85084871, 42932.0, 42887.5, 43042.16, 43048.51], \"low\": [43427.28, 43414.33, 43327.29, 43348.06, 43351.15, 43280.0, 43284.12, 43283.74, 43240.01, 43261.26, 43217.6, 43207.55, 43268.05, 43278.42, 43272.19, 43287.88, 43350.2, 43387.95, 43487.66, 43527.56, 43600.0, 43538.26, 43426.2, 43431.57, 43436.46, 43476.65, 43525.5, 43585.4, 43647.65, 43676.9, 43702.98, 43709.75, 43706.19, 43683.73, 43669.67, 43638.92, 43631.17, 43662.11, 43729.9, 43730.0, 43732.41, 43725.22, 43739.3, 43722.3, 43717.71, 43686.54, 43695.18, 43733.8, 43729.06, 43730.17, 43705.92, 43691.2, 43665.84, 43657.79, 43663.42, 43658.2, 43663.48, 43669.1, 43669.1, 43659.05, 43669.2, 43677.4, 43718.9, 43742.1, 43754.67, 43790.01, 43750.89, 43672.6, 43669.13, 43683.08, 43689.3, 43641.65, 43584.69, 43583.4, 43608.15, 43522.0, 43504.1, 43464.86, 43462.56, 43499.99, 43548.51, 43538.67, 43534.0, 43616.54, 43521.92, 43514.09, 43593.43, 43644.1, 43682.67, 43688.1, 43712.74, 43701.41, 43700.0, 43665.29, 43678.37, 43718.44, 43758.4, 43763.01, 43772.0, 43772.75, 43741.3, 43760.3, 43788.96, 43788.53, 43780.41, 43816.96, 43762.7, 43742.7, 43750.0, 43759.23, 43766.7, 43757.17, 43782.18, 43795.58, 43823.74, 43842.5, 43875.72, 43866.3, 43847.0, 43835.66, 43850.16, 43832.56, 43813.11, 43746.0, 43687.0, 43650.01, 43627.29, 43600.0, 43499.99, 43350.4, 43295.74, 43278.42, 43221.04, 43003.84, 43067.0, 43172.38, 43172.0, 43220.67, 43261.3, 43333.51, 43283.1, 43335.64, 43441.56, 43428.8, 43172.9, 43133.08, 43209.9, 43218.81, 43062.9, 43050.9, 43019.49, 42930.14, 42967.33, 42969.79, 43106.01, 43026.47, 43092.88, 43064.36, 43058.56, 43007.67, 42898.8, 42900.0, 42801.0, 42795.45, 42659.29112887, 42660.05, 42651.4, 42672.8, 42640.0, 42575.0, 42579.4, 42515.09, 42548.09, 42626.61, 42660.7, 42743.68, 42688.55, 42731.17, 42600.0, 42607.5, 42690.84, 42690.75, 42694.37, 42636.76, 42630.17, 42662.27, 42742.36, 42713.48, 42713.48, 42852.07, 42899.1, 42907.18, 42929.74, 42953.1, 42958.06, 42878.26, 42840.16, 42797.2, 42818.1, 42961.64], \"open\": [43558.39375, 43449.81857142858, 43427.0823097625, 43362.572857142855, 43419.8325, 43368.71625, 43393.847142857136, 43329.654285714285, 43335.71432474571, 43275.938571428575, 43301.834285714285, 43232.93714285714, 43297.98428571429, 43336.64, 43333.63142857143, 43314.74000000001, 43364.94875, 43408.08714285715, 43504.69050787143, 43563.5475, 43734.175172745716, 43622.09142833857, 43556.59375, 43455.175, 43574.825, 43520.28, 43576.7775, 43622.23555296, 43692.88857142858, 43693.87714285714, 43746.07428571429, 43732.60428571428, 43769.21714285714, 43713.06428571429, 43696.00375, 43671.81428571429, 43658.32428571429, 43678.86, 43747.11558816286, 43763.66857142857, 43801.88285714287, 43743.70142857143, 43760.135, 43757.962857142855, 43746.89571428572, 43752.36571428572, 43706.63459625, 43754.938571428575, 43751.42502128715, 43747.71428571428, 43741.16142857143, 43718.720000000016, 43697.065714285716, 43678.72571428572, 43687.59428571429, 43674.66142857143, 43674.23, 43699.485714285714, 43693.75714285714, 43686.042857142864, 43680.84285714286, 43703.04380334572, 43737.424990827145, 43748.792857142864, 43764.222193155, 43867.28649138286, 43796.17000235, 43764.80711541429, 43683.29195864715, 43694.014285714286, 43724.80857142858, 43734.218571428566, 43648.50714285714, 43595.79378934143, 43622.90857142857, 43635.26571428571, 43561.49245584857, 43540.261460078575, 43481.815714285716, 43514.376468365714, 43617.79142857143, 43571.87298438429, 43552.885714285716, 43628.438571428575, 43627.27428571428, 43537.74857142858, 43605.25142857143, 43650.830000000016, 43700.829614364295, 43709.82420531143, 43729.398571428566, 43758.39428571429, 43711.38000000001, 43711.45285714285, 43709.3575, 43745.652857142864, 43771.43571428571, 43811.9775, 43826.62833333333, 43809.957142857136, 43813.72, 43780.97162221715, 43805.69142857142, 43832.400000000016, 43801.23428571429, 43846.09142857143, 43828.874285714286, 43786.385714285716, 43771.014285714286, 43774.80714285715, 43798.41857142857, 43794.84032981571, 43807.66285714285, 43807.34428571429, 43836.9875, 43872.08714285714, 43900.888571428564, 43901.008571428574, 43890.30857142857, 43858.474285714285, 43893.88166666668, 43866.00571428572, 43843.235714285714, 43821.555714285714, 43752.37, 43704.62857142857, 43671.72, 43644.06142857143, 43610.07408044428, 43504.71428571428, 43365.91375, 43313.70812588, 43296.055714285714, 43239.0175, 43092.85375, 43251.94250000001, 43264.50125, 43307.44571428571, 43296.88375, 43341.862857142856, 43353.12, 43365.74875000001, 43477.0875, 43588.102500000015, 43447.60285714286, 43205.55625, 43234.95285714286, 43267.83, 43229.50125, 43106.66925542, 43064.47714285714, 43054.81000000001, 43002.9225, 42998.535, 43227.1275, 43122.16, 43192.76624999999, 43106.259973661436, 43159.91625, 43085.22049047715, 43049.56714285714, 42972.15714285714, 42979.09125000001, 42873.23000000002, 42815.11375, 42707.930000000015, 42766.4325, 42775.73125, 42694.57285714285, 42675.71750000001, 42599.647142857146, 42620.29375, 42577.715, 42683.24375, 42673.72571428572, 42768.39625000001, 42819.91125, 42750.58285714287, 42760.10875, 42632.465, 42718.815, 42772.92125, 42762.29, 42703.80250000001, 42655.528483642855, 42688.935, 42790.287142857145, 42792.855714285724, 42745.15375, 42896.17428571428, 42937.78428571428, 42933.25490686, 42974.10869267286, 42971.347142857136, 42982.915714285715, 42983.779999999984, 42904.19714285714, 42859.385714285716, 42839.01280218857, 43009.96125], \"type\": \"candlestick\", \"x\": [\"2021-09-20T20:41:00\", \"2021-09-20T20:42:00\", \"2021-09-20T20:43:00\", \"2021-09-20T20:44:00\", \"2021-09-20T20:45:00\", \"2021-09-20T20:46:00\", \"2021-09-20T20:47:00\", \"2021-09-20T20:48:00\", \"2021-09-20T20:49:00\", \"2021-09-20T20:50:00\", \"2021-09-20T20:51:00\", \"2021-09-20T20:52:00\", \"2021-09-20T20:53:00\", \"2021-09-20T20:54:00\", \"2021-09-20T20:55:00\", \"2021-09-20T20:56:00\", \"2021-09-20T20:57:00\", \"2021-09-20T20:58:00\", \"2021-09-20T20:59:00\", \"2021-09-20T21:00:00\", \"2021-09-20T21:01:00\", \"2021-09-20T21:02:00\", \"2021-09-20T21:03:00\", \"2021-09-20T21:04:00\", \"2021-09-20T21:05:00\", \"2021-09-20T21:06:00\", \"2021-09-20T21:07:00\", \"2021-09-20T21:08:00\", \"2021-09-20T21:09:00\", \"2021-09-20T21:10:00\", \"2021-09-20T21:11:00\", \"2021-09-20T21:12:00\", \"2021-09-20T21:13:00\", \"2021-09-20T21:14:00\", \"2021-09-20T21:15:00\", \"2021-09-20T21:16:00\", \"2021-09-20T21:17:00\", \"2021-09-20T21:18:00\", \"2021-09-20T21:19:00\", \"2021-09-20T21:20:00\", \"2021-09-20T21:21:00\", \"2021-09-20T21:22:00\", \"2021-09-20T21:23:00\", \"2021-09-20T21:24:00\", \"2021-09-20T21:25:00\", \"2021-09-20T21:26:00\", \"2021-09-20T21:27:00\", \"2021-09-20T21:28:00\", \"2021-09-20T21:29:00\", \"2021-09-20T21:30:00\", \"2021-09-20T21:31:00\", \"2021-09-20T21:32:00\", \"2021-09-20T21:33:00\", \"2021-09-20T21:34:00\", \"2021-09-20T21:35:00\", \"2021-09-20T21:36:00\", \"2021-09-20T21:37:00\", \"2021-09-20T21:38:00\", \"2021-09-20T21:39:00\", \"2021-09-20T21:40:00\", \"2021-09-20T21:41:00\", \"2021-09-20T21:42:00\", \"2021-09-20T21:43:00\", \"2021-09-20T21:44:00\", \"2021-09-20T21:45:00\", \"2021-09-20T21:46:00\", \"2021-09-20T21:47:00\", \"2021-09-20T21:48:00\", \"2021-09-20T21:49:00\", \"2021-09-20T21:50:00\", \"2021-09-20T21:51:00\", \"2021-09-20T21:52:00\", \"2021-09-20T21:53:00\", \"2021-09-20T21:54:00\", \"2021-09-20T21:55:00\", \"2021-09-20T21:56:00\", \"2021-09-20T21:57:00\", \"2021-09-20T21:58:00\", \"2021-09-20T21:59:00\", \"2021-09-20T22:00:00\", \"2021-09-20T22:01:00\", \"2021-09-20T22:02:00\", \"2021-09-20T22:03:00\", \"2021-09-20T22:04:00\", \"2021-09-20T22:05:00\", \"2021-09-20T22:06:00\", \"2021-09-20T22:07:00\", \"2021-09-20T22:08:00\", \"2021-09-20T22:09:00\", \"2021-09-20T22:10:00\", \"2021-09-20T22:11:00\", \"2021-09-20T22:12:00\", \"2021-09-20T22:13:00\", \"2021-09-20T22:14:00\", \"2021-09-20T22:15:00\", \"2021-09-20T22:16:00\", \"2021-09-20T22:17:00\", \"2021-09-20T22:18:00\", \"2021-09-20T22:19:00\", \"2021-09-20T22:20:00\", \"2021-09-20T22:21:00\", \"2021-09-20T22:22:00\", \"2021-09-20T22:23:00\", \"2021-09-20T22:24:00\", \"2021-09-20T22:25:00\", \"2021-09-20T22:26:00\", \"2021-09-20T22:27:00\", \"2021-09-20T22:28:00\", \"2021-09-20T22:29:00\", \"2021-09-20T22:30:00\", \"2021-09-20T22:31:00\", \"2021-09-20T22:32:00\", \"2021-09-20T22:33:00\", \"2021-09-20T22:34:00\", \"2021-09-20T22:35:00\", \"2021-09-20T22:36:00\", \"2021-09-20T22:37:00\", \"2021-09-20T22:38:00\", \"2021-09-20T22:39:00\", \"2021-09-20T22:40:00\", \"2021-09-20T22:41:00\", \"2021-09-20T22:42:00\", \"2021-09-20T22:43:00\", \"2021-09-20T22:44:00\", \"2021-09-20T22:45:00\", \"2021-09-20T22:46:00\", \"2021-09-20T22:47:00\", \"2021-09-20T22:48:00\", \"2021-09-20T22:49:00\", \"2021-09-20T22:50:00\", \"2021-09-20T22:51:00\", \"2021-09-20T22:52:00\", \"2021-09-20T22:53:00\", \"2021-09-20T22:54:00\", \"2021-09-20T22:55:00\", \"2021-09-20T22:56:00\", \"2021-09-20T22:57:00\", \"2021-09-20T22:58:00\", \"2021-09-20T22:59:00\", \"2021-09-20T23:00:00\", \"2021-09-20T23:01:00\", \"2021-09-20T23:02:00\", \"2021-09-20T23:03:00\", \"2021-09-20T23:04:00\", \"2021-09-20T23:05:00\", \"2021-09-20T23:06:00\", \"2021-09-20T23:07:00\", \"2021-09-20T23:08:00\", \"2021-09-20T23:09:00\", \"2021-09-20T23:10:00\", \"2021-09-20T23:11:00\", \"2021-09-20T23:12:00\", \"2021-09-20T23:13:00\", \"2021-09-20T23:14:00\", \"2021-09-20T23:15:00\", \"2021-09-20T23:16:00\", \"2021-09-20T23:17:00\", \"2021-09-20T23:18:00\", \"2021-09-20T23:19:00\", \"2021-09-20T23:20:00\", \"2021-09-20T23:21:00\", \"2021-09-20T23:22:00\", \"2021-09-20T23:23:00\", \"2021-09-20T23:24:00\", \"2021-09-20T23:25:00\", \"2021-09-20T23:26:00\", \"2021-09-20T23:27:00\", \"2021-09-20T23:28:00\", \"2021-09-20T23:29:00\", \"2021-09-20T23:30:00\", \"2021-09-20T23:31:00\", \"2021-09-20T23:32:00\", \"2021-09-20T23:33:00\", \"2021-09-20T23:34:00\", \"2021-09-20T23:35:00\", \"2021-09-20T23:36:00\", \"2021-09-20T23:37:00\", \"2021-09-20T23:38:00\", \"2021-09-20T23:39:00\", \"2021-09-20T23:40:00\", \"2021-09-20T23:41:00\", \"2021-09-20T23:42:00\", \"2021-09-20T23:43:00\", \"2021-09-20T23:44:00\", \"2021-09-20T23:45:00\", \"2021-09-20T23:46:00\", \"2021-09-20T23:47:00\", \"2021-09-20T23:48:00\", \"2021-09-20T23:49:00\", \"2021-09-20T23:50:00\", \"2021-09-20T23:51:00\", \"2021-09-20T23:52:00\", \"2021-09-20T23:53:00\", \"2021-09-20T23:54:00\", \"2021-09-20T23:55:00\", \"2021-09-20T23:56:00\", \"2021-09-20T23:57:00\", \"2021-09-20T23:58:00\", \"2021-09-20T23:59:00\", \"2021-09-21T00:00:00\"]}],\n",
              "                        {\"template\": {\"data\": {\"bar\": [{\"error_x\": {\"color\": \"#2a3f5f\"}, \"error_y\": {\"color\": \"#2a3f5f\"}, \"marker\": {\"line\": {\"color\": \"#E5ECF6\", \"width\": 0.5}}, \"type\": \"bar\"}], \"barpolar\": [{\"marker\": {\"line\": {\"color\": \"#E5ECF6\", \"width\": 0.5}}, \"type\": \"barpolar\"}], \"carpet\": [{\"aaxis\": {\"endlinecolor\": \"#2a3f5f\", \"gridcolor\": \"white\", \"linecolor\": \"white\", \"minorgridcolor\": \"white\", \"startlinecolor\": \"#2a3f5f\"}, \"baxis\": {\"endlinecolor\": \"#2a3f5f\", \"gridcolor\": \"white\", \"linecolor\": \"white\", \"minorgridcolor\": \"white\", \"startlinecolor\": \"#2a3f5f\"}, \"type\": \"carpet\"}], \"choropleth\": [{\"colorbar\": {\"outlinewidth\": 0, \"ticks\": \"\"}, \"type\": \"choropleth\"}], \"contour\": [{\"colorbar\": {\"outlinewidth\": 0, \"ticks\": \"\"}, \"colorscale\": [[0.0, \"#0d0887\"], [0.1111111111111111, \"#46039f\"], [0.2222222222222222, \"#7201a8\"], [0.3333333333333333, \"#9c179e\"], [0.4444444444444444, \"#bd3786\"], [0.5555555555555556, \"#d8576b\"], [0.6666666666666666, \"#ed7953\"], [0.7777777777777778, \"#fb9f3a\"], [0.8888888888888888, \"#fdca26\"], [1.0, \"#f0f921\"]], \"type\": \"contour\"}], \"contourcarpet\": [{\"colorbar\": {\"outlinewidth\": 0, \"ticks\": \"\"}, \"type\": \"contourcarpet\"}], \"heatmap\": [{\"colorbar\": {\"outlinewidth\": 0, \"ticks\": \"\"}, \"colorscale\": [[0.0, \"#0d0887\"], [0.1111111111111111, \"#46039f\"], [0.2222222222222222, \"#7201a8\"], [0.3333333333333333, \"#9c179e\"], [0.4444444444444444, \"#bd3786\"], [0.5555555555555556, \"#d8576b\"], [0.6666666666666666, \"#ed7953\"], [0.7777777777777778, \"#fb9f3a\"], [0.8888888888888888, \"#fdca26\"], [1.0, \"#f0f921\"]], \"type\": \"heatmap\"}], \"heatmapgl\": [{\"colorbar\": {\"outlinewidth\": 0, \"ticks\": \"\"}, \"colorscale\": [[0.0, \"#0d0887\"], [0.1111111111111111, \"#46039f\"], [0.2222222222222222, \"#7201a8\"], [0.3333333333333333, \"#9c179e\"], [0.4444444444444444, \"#bd3786\"], [0.5555555555555556, \"#d8576b\"], [0.6666666666666666, \"#ed7953\"], [0.7777777777777778, \"#fb9f3a\"], [0.8888888888888888, \"#fdca26\"], [1.0, \"#f0f921\"]], \"type\": \"heatmapgl\"}], \"histogram\": [{\"marker\": {\"colorbar\": {\"outlinewidth\": 0, \"ticks\": \"\"}}, \"type\": \"histogram\"}], \"histogram2d\": [{\"colorbar\": {\"outlinewidth\": 0, \"ticks\": \"\"}, \"colorscale\": [[0.0, \"#0d0887\"], [0.1111111111111111, \"#46039f\"], [0.2222222222222222, \"#7201a8\"], [0.3333333333333333, \"#9c179e\"], [0.4444444444444444, \"#bd3786\"], [0.5555555555555556, \"#d8576b\"], [0.6666666666666666, \"#ed7953\"], [0.7777777777777778, \"#fb9f3a\"], [0.8888888888888888, \"#fdca26\"], [1.0, \"#f0f921\"]], \"type\": \"histogram2d\"}], \"histogram2dcontour\": [{\"colorbar\": {\"outlinewidth\": 0, \"ticks\": \"\"}, \"colorscale\": [[0.0, \"#0d0887\"], [0.1111111111111111, \"#46039f\"], [0.2222222222222222, \"#7201a8\"], [0.3333333333333333, \"#9c179e\"], [0.4444444444444444, \"#bd3786\"], [0.5555555555555556, \"#d8576b\"], [0.6666666666666666, \"#ed7953\"], [0.7777777777777778, \"#fb9f3a\"], [0.8888888888888888, \"#fdca26\"], [1.0, \"#f0f921\"]], \"type\": \"histogram2dcontour\"}], \"mesh3d\": [{\"colorbar\": {\"outlinewidth\": 0, \"ticks\": \"\"}, \"type\": \"mesh3d\"}], \"parcoords\": [{\"line\": {\"colorbar\": {\"outlinewidth\": 0, \"ticks\": \"\"}}, \"type\": \"parcoords\"}], \"pie\": [{\"automargin\": true, \"type\": \"pie\"}], \"scatter\": [{\"marker\": {\"colorbar\": {\"outlinewidth\": 0, \"ticks\": \"\"}}, \"type\": \"scatter\"}], \"scatter3d\": [{\"line\": {\"colorbar\": {\"outlinewidth\": 0, \"ticks\": \"\"}}, \"marker\": {\"colorbar\": {\"outlinewidth\": 0, \"ticks\": \"\"}}, \"type\": \"scatter3d\"}], \"scattercarpet\": [{\"marker\": {\"colorbar\": {\"outlinewidth\": 0, \"ticks\": \"\"}}, \"type\": \"scattercarpet\"}], \"scattergeo\": [{\"marker\": {\"colorbar\": {\"outlinewidth\": 0, \"ticks\": \"\"}}, \"type\": \"scattergeo\"}], \"scattergl\": [{\"marker\": {\"colorbar\": {\"outlinewidth\": 0, \"ticks\": \"\"}}, \"type\": \"scattergl\"}], \"scattermapbox\": [{\"marker\": {\"colorbar\": {\"outlinewidth\": 0, \"ticks\": \"\"}}, \"type\": \"scattermapbox\"}], \"scatterpolar\": [{\"marker\": {\"colorbar\": {\"outlinewidth\": 0, \"ticks\": \"\"}}, \"type\": \"scatterpolar\"}], \"scatterpolargl\": [{\"marker\": {\"colorbar\": {\"outlinewidth\": 0, \"ticks\": \"\"}}, \"type\": \"scatterpolargl\"}], \"scatterternary\": [{\"marker\": {\"colorbar\": {\"outlinewidth\": 0, \"ticks\": \"\"}}, \"type\": \"scatterternary\"}], \"surface\": [{\"colorbar\": {\"outlinewidth\": 0, \"ticks\": \"\"}, \"colorscale\": [[0.0, \"#0d0887\"], [0.1111111111111111, \"#46039f\"], [0.2222222222222222, \"#7201a8\"], [0.3333333333333333, \"#9c179e\"], [0.4444444444444444, \"#bd3786\"], [0.5555555555555556, \"#d8576b\"], [0.6666666666666666, \"#ed7953\"], [0.7777777777777778, \"#fb9f3a\"], [0.8888888888888888, \"#fdca26\"], [1.0, \"#f0f921\"]], \"type\": \"surface\"}], \"table\": [{\"cells\": {\"fill\": {\"color\": \"#EBF0F8\"}, \"line\": {\"color\": \"white\"}}, \"header\": {\"fill\": {\"color\": \"#C8D4E3\"}, \"line\": {\"color\": \"white\"}}, \"type\": \"table\"}]}, \"layout\": {\"annotationdefaults\": {\"arrowcolor\": \"#2a3f5f\", \"arrowhead\": 0, \"arrowwidth\": 1}, \"coloraxis\": {\"colorbar\": {\"outlinewidth\": 0, \"ticks\": \"\"}}, \"colorscale\": {\"diverging\": [[0, \"#8e0152\"], [0.1, \"#c51b7d\"], [0.2, \"#de77ae\"], [0.3, \"#f1b6da\"], [0.4, \"#fde0ef\"], [0.5, \"#f7f7f7\"], [0.6, \"#e6f5d0\"], [0.7, \"#b8e186\"], [0.8, \"#7fbc41\"], [0.9, \"#4d9221\"], [1, \"#276419\"]], \"sequential\": [[0.0, \"#0d0887\"], [0.1111111111111111, \"#46039f\"], [0.2222222222222222, \"#7201a8\"], [0.3333333333333333, \"#9c179e\"], [0.4444444444444444, \"#bd3786\"], [0.5555555555555556, \"#d8576b\"], [0.6666666666666666, \"#ed7953\"], [0.7777777777777778, \"#fb9f3a\"], [0.8888888888888888, \"#fdca26\"], [1.0, \"#f0f921\"]], \"sequentialminus\": [[0.0, \"#0d0887\"], [0.1111111111111111, \"#46039f\"], [0.2222222222222222, \"#7201a8\"], [0.3333333333333333, \"#9c179e\"], [0.4444444444444444, \"#bd3786\"], [0.5555555555555556, \"#d8576b\"], [0.6666666666666666, \"#ed7953\"], [0.7777777777777778, \"#fb9f3a\"], [0.8888888888888888, \"#fdca26\"], [1.0, \"#f0f921\"]]}, \"colorway\": [\"#636efa\", \"#EF553B\", \"#00cc96\", \"#ab63fa\", \"#FFA15A\", \"#19d3f3\", \"#FF6692\", \"#B6E880\", \"#FF97FF\", \"#FECB52\"], \"font\": {\"color\": \"#2a3f5f\"}, \"geo\": {\"bgcolor\": \"white\", \"lakecolor\": \"white\", \"landcolor\": \"#E5ECF6\", \"showlakes\": true, \"showland\": true, \"subunitcolor\": \"white\"}, \"hoverlabel\": {\"align\": \"left\"}, \"hovermode\": \"closest\", \"mapbox\": {\"style\": \"light\"}, \"paper_bgcolor\": \"white\", \"plot_bgcolor\": \"#E5ECF6\", \"polar\": {\"angularaxis\": {\"gridcolor\": \"white\", \"linecolor\": \"white\", \"ticks\": \"\"}, \"bgcolor\": \"#E5ECF6\", \"radialaxis\": {\"gridcolor\": \"white\", \"linecolor\": \"white\", \"ticks\": \"\"}}, \"scene\": {\"xaxis\": {\"backgroundcolor\": \"#E5ECF6\", \"gridcolor\": \"white\", \"gridwidth\": 2, \"linecolor\": \"white\", \"showbackground\": true, \"ticks\": \"\", \"zerolinecolor\": \"white\"}, \"yaxis\": {\"backgroundcolor\": \"#E5ECF6\", \"gridcolor\": \"white\", \"gridwidth\": 2, \"linecolor\": \"white\", \"showbackground\": true, \"ticks\": \"\", \"zerolinecolor\": \"white\"}, \"zaxis\": {\"backgroundcolor\": \"#E5ECF6\", \"gridcolor\": \"white\", \"gridwidth\": 2, \"linecolor\": \"white\", \"showbackground\": true, \"ticks\": \"\", \"zerolinecolor\": \"white\"}}, \"shapedefaults\": {\"line\": {\"color\": \"#2a3f5f\"}}, \"ternary\": {\"aaxis\": {\"gridcolor\": \"white\", \"linecolor\": \"white\", \"ticks\": \"\"}, \"baxis\": {\"gridcolor\": \"white\", \"linecolor\": \"white\", \"ticks\": \"\"}, \"bgcolor\": \"#E5ECF6\", \"caxis\": {\"gridcolor\": \"white\", \"linecolor\": \"white\", \"ticks\": \"\"}}, \"title\": {\"x\": 0.05}, \"xaxis\": {\"automargin\": true, \"gridcolor\": \"white\", \"linecolor\": \"white\", \"ticks\": \"\", \"title\": {\"standoff\": 15}, \"zerolinecolor\": \"white\", \"zerolinewidth\": 2}, \"yaxis\": {\"automargin\": true, \"gridcolor\": \"white\", \"linecolor\": \"white\", \"ticks\": \"\", \"title\": {\"standoff\": 15}, \"zerolinecolor\": \"white\", \"zerolinewidth\": 2}}}},\n",
              "                        {\"responsive\": true}\n",
              "                    ).then(function(){\n",
              "                            \n",
              "var gd = document.getElementById('e4aa8d05-1c63-4285-b82f-645068137555');\n",
              "var x = new MutationObserver(function (mutations, observer) {{\n",
              "        var display = window.getComputedStyle(gd).display;\n",
              "        if (!display || display === 'none') {{\n",
              "            console.log([gd, 'removed!']);\n",
              "            Plotly.purge(gd);\n",
              "            observer.disconnect();\n",
              "        }}\n",
              "}});\n",
              "\n",
              "// Listen for the removal of the full notebook cells\n",
              "var notebookContainer = gd.closest('#notebook-container');\n",
              "if (notebookContainer) {{\n",
              "    x.observe(notebookContainer, {childList: true});\n",
              "}}\n",
              "\n",
              "// Listen for the clearing of the current output cell\n",
              "var outputEl = gd.closest('.output');\n",
              "if (outputEl) {{\n",
              "    x.observe(outputEl, {childList: true});\n",
              "}}\n",
              "\n",
              "                        })\n",
              "                };\n",
              "                \n",
              "            </script>\n",
              "        </div>\n",
              "</body>\n",
              "</html>"
            ]
          },
          "metadata": {},
          "output_type": "display_data"
        }
      ],
      "source": [
        "fig.show()"
      ]
    },
    {
      "cell_type": "code",
      "execution_count": null,
      "metadata": {
        "colab": {
          "base_uri": "https://localhost:8080/",
          "height": 455
        },
        "id": "hDU2FkzcHcng",
        "outputId": "b3de39bc-8968-406b-ef19-27df11d7dd5b"
      },
      "outputs": [
        {
          "data": {
            "text/html": [
              "\n",
              "  <div id=\"df-a4aa363a-3948-4c13-af64-360b12c9169f\">\n",
              "    <div class=\"colab-df-container\">\n",
              "      <div>\n",
              "<style scoped>\n",
              "    .dataframe tbody tr th:only-of-type {\n",
              "        vertical-align: middle;\n",
              "    }\n",
              "\n",
              "    .dataframe tbody tr th {\n",
              "        vertical-align: top;\n",
              "    }\n",
              "\n",
              "    .dataframe thead th {\n",
              "        text-align: right;\n",
              "    }\n",
              "</style>\n",
              "<table border=\"1\" class=\"dataframe\">\n",
              "  <thead>\n",
              "    <tr style=\"text-align: right;\">\n",
              "      <th></th>\n",
              "      <th>timestamp</th>\n",
              "      <th>Asset_ID</th>\n",
              "      <th>Count</th>\n",
              "      <th>Open</th>\n",
              "      <th>High</th>\n",
              "      <th>Low</th>\n",
              "      <th>Close</th>\n",
              "      <th>Volume</th>\n",
              "      <th>VWAP</th>\n",
              "      <th>Target</th>\n",
              "    </tr>\n",
              "    <tr>\n",
              "      <th>date</th>\n",
              "      <th></th>\n",
              "      <th></th>\n",
              "      <th></th>\n",
              "      <th></th>\n",
              "      <th></th>\n",
              "      <th></th>\n",
              "      <th></th>\n",
              "      <th></th>\n",
              "      <th></th>\n",
              "      <th></th>\n",
              "    </tr>\n",
              "  </thead>\n",
              "  <tbody>\n",
              "    <tr>\n",
              "      <th>2018-01-01 00:01:00</th>\n",
              "      <td>1514764860</td>\n",
              "      <td>1</td>\n",
              "      <td>229.0</td>\n",
              "      <td>13835.194000</td>\n",
              "      <td>14013.800000</td>\n",
              "      <td>13666.11</td>\n",
              "      <td>13850.176000</td>\n",
              "      <td>31.550062</td>\n",
              "      <td>13827.062093</td>\n",
              "      <td>-0.014643</td>\n",
              "    </tr>\n",
              "    <tr>\n",
              "      <th>2018-01-01 00:02:00</th>\n",
              "      <td>1514764920</td>\n",
              "      <td>1</td>\n",
              "      <td>235.0</td>\n",
              "      <td>13835.036000</td>\n",
              "      <td>14052.300000</td>\n",
              "      <td>13680.00</td>\n",
              "      <td>13828.102000</td>\n",
              "      <td>31.046432</td>\n",
              "      <td>13840.362591</td>\n",
              "      <td>-0.015037</td>\n",
              "    </tr>\n",
              "    <tr>\n",
              "      <th>2018-01-01 00:03:00</th>\n",
              "      <td>1514764980</td>\n",
              "      <td>1</td>\n",
              "      <td>528.0</td>\n",
              "      <td>13823.900000</td>\n",
              "      <td>14000.400000</td>\n",
              "      <td>13601.00</td>\n",
              "      <td>13801.314000</td>\n",
              "      <td>55.061820</td>\n",
              "      <td>13806.068014</td>\n",
              "      <td>-0.010309</td>\n",
              "    </tr>\n",
              "    <tr>\n",
              "      <th>2018-01-01 00:04:00</th>\n",
              "      <td>1514765040</td>\n",
              "      <td>1</td>\n",
              "      <td>435.0</td>\n",
              "      <td>13802.512000</td>\n",
              "      <td>13999.000000</td>\n",
              "      <td>13576.28</td>\n",
              "      <td>13768.040000</td>\n",
              "      <td>38.780529</td>\n",
              "      <td>13783.598101</td>\n",
              "      <td>-0.008999</td>\n",
              "    </tr>\n",
              "    <tr>\n",
              "      <th>2018-01-01 00:05:00</th>\n",
              "      <td>1514765100</td>\n",
              "      <td>1</td>\n",
              "      <td>742.0</td>\n",
              "      <td>13766.000000</td>\n",
              "      <td>13955.900000</td>\n",
              "      <td>13554.44</td>\n",
              "      <td>13724.914000</td>\n",
              "      <td>108.501637</td>\n",
              "      <td>13735.586842</td>\n",
              "      <td>-0.008079</td>\n",
              "    </tr>\n",
              "    <tr>\n",
              "      <th>...</th>\n",
              "      <td>...</td>\n",
              "      <td>...</td>\n",
              "      <td>...</td>\n",
              "      <td>...</td>\n",
              "      <td>...</td>\n",
              "      <td>...</td>\n",
              "      <td>...</td>\n",
              "      <td>...</td>\n",
              "      <td>...</td>\n",
              "      <td>...</td>\n",
              "    </tr>\n",
              "    <tr>\n",
              "      <th>2021-09-20 23:56:00</th>\n",
              "      <td>1632182160</td>\n",
              "      <td>1</td>\n",
              "      <td>1940.0</td>\n",
              "      <td>42983.780000</td>\n",
              "      <td>43001.850849</td>\n",
              "      <td>42878.26</td>\n",
              "      <td>42899.012857</td>\n",
              "      <td>56.850913</td>\n",
              "      <td>42935.489499</td>\n",
              "      <td>NaN</td>\n",
              "    </tr>\n",
              "    <tr>\n",
              "      <th>2021-09-20 23:57:00</th>\n",
              "      <td>1632182220</td>\n",
              "      <td>1</td>\n",
              "      <td>2026.0</td>\n",
              "      <td>42904.197143</td>\n",
              "      <td>42932.000000</td>\n",
              "      <td>42840.16</td>\n",
              "      <td>42860.005714</td>\n",
              "      <td>80.993326</td>\n",
              "      <td>42879.576084</td>\n",
              "      <td>NaN</td>\n",
              "    </tr>\n",
              "    <tr>\n",
              "      <th>2021-09-20 23:58:00</th>\n",
              "      <td>1632182280</td>\n",
              "      <td>1</td>\n",
              "      <td>1986.0</td>\n",
              "      <td>42859.385714</td>\n",
              "      <td>42887.500000</td>\n",
              "      <td>42797.20</td>\n",
              "      <td>42827.020000</td>\n",
              "      <td>65.677734</td>\n",
              "      <td>42844.090693</td>\n",
              "      <td>NaN</td>\n",
              "    </tr>\n",
              "    <tr>\n",
              "      <th>2021-09-20 23:59:00</th>\n",
              "      <td>1632182340</td>\n",
              "      <td>1</td>\n",
              "      <td>4047.0</td>\n",
              "      <td>42839.012802</td>\n",
              "      <td>43042.160000</td>\n",
              "      <td>42818.10</td>\n",
              "      <td>43017.277143</td>\n",
              "      <td>138.335477</td>\n",
              "      <td>42935.761938</td>\n",
              "      <td>NaN</td>\n",
              "    </tr>\n",
              "    <tr>\n",
              "      <th>2021-09-21 00:00:00</th>\n",
              "      <td>1632182400</td>\n",
              "      <td>1</td>\n",
              "      <td>2698.0</td>\n",
              "      <td>43009.961250</td>\n",
              "      <td>43048.510000</td>\n",
              "      <td>42961.64</td>\n",
              "      <td>43002.505000</td>\n",
              "      <td>128.206820</td>\n",
              "      <td>43011.414052</td>\n",
              "      <td>NaN</td>\n",
              "    </tr>\n",
              "  </tbody>\n",
              "</table>\n",
              "<p>1956282 rows × 10 columns</p>\n",
              "</div>\n",
              "      <button class=\"colab-df-convert\" onclick=\"convertToInteractive('df-a4aa363a-3948-4c13-af64-360b12c9169f')\"\n",
              "              title=\"Convert this dataframe to an interactive table.\"\n",
              "              style=\"display:none;\">\n",
              "        \n",
              "  <svg xmlns=\"http://www.w3.org/2000/svg\" height=\"24px\"viewBox=\"0 0 24 24\"\n",
              "       width=\"24px\">\n",
              "    <path d=\"M0 0h24v24H0V0z\" fill=\"none\"/>\n",
              "    <path d=\"M18.56 5.44l.94 2.06.94-2.06 2.06-.94-2.06-.94-.94-2.06-.94 2.06-2.06.94zm-11 1L8.5 8.5l.94-2.06 2.06-.94-2.06-.94L8.5 2.5l-.94 2.06-2.06.94zm10 10l.94 2.06.94-2.06 2.06-.94-2.06-.94-.94-2.06-.94 2.06-2.06.94z\"/><path d=\"M17.41 7.96l-1.37-1.37c-.4-.4-.92-.59-1.43-.59-.52 0-1.04.2-1.43.59L10.3 9.45l-7.72 7.72c-.78.78-.78 2.05 0 2.83L4 21.41c.39.39.9.59 1.41.59.51 0 1.02-.2 1.41-.59l7.78-7.78 2.81-2.81c.8-.78.8-2.07 0-2.86zM5.41 20L4 18.59l7.72-7.72 1.47 1.35L5.41 20z\"/>\n",
              "  </svg>\n",
              "      </button>\n",
              "      \n",
              "  <style>\n",
              "    .colab-df-container {\n",
              "      display:flex;\n",
              "      flex-wrap:wrap;\n",
              "      gap: 12px;\n",
              "    }\n",
              "\n",
              "    .colab-df-convert {\n",
              "      background-color: #E8F0FE;\n",
              "      border: none;\n",
              "      border-radius: 50%;\n",
              "      cursor: pointer;\n",
              "      display: none;\n",
              "      fill: #1967D2;\n",
              "      height: 32px;\n",
              "      padding: 0 0 0 0;\n",
              "      width: 32px;\n",
              "    }\n",
              "\n",
              "    .colab-df-convert:hover {\n",
              "      background-color: #E2EBFA;\n",
              "      box-shadow: 0px 1px 2px rgba(60, 64, 67, 0.3), 0px 1px 3px 1px rgba(60, 64, 67, 0.15);\n",
              "      fill: #174EA6;\n",
              "    }\n",
              "\n",
              "    [theme=dark] .colab-df-convert {\n",
              "      background-color: #3B4455;\n",
              "      fill: #D2E3FC;\n",
              "    }\n",
              "\n",
              "    [theme=dark] .colab-df-convert:hover {\n",
              "      background-color: #434B5C;\n",
              "      box-shadow: 0px 1px 3px 1px rgba(0, 0, 0, 0.15);\n",
              "      filter: drop-shadow(0px 1px 2px rgba(0, 0, 0, 0.3));\n",
              "      fill: #FFFFFF;\n",
              "    }\n",
              "  </style>\n",
              "\n",
              "      <script>\n",
              "        const buttonEl =\n",
              "          document.querySelector('#df-a4aa363a-3948-4c13-af64-360b12c9169f button.colab-df-convert');\n",
              "        buttonEl.style.display =\n",
              "          google.colab.kernel.accessAllowed ? 'block' : 'none';\n",
              "\n",
              "        async function convertToInteractive(key) {\n",
              "          const element = document.querySelector('#df-a4aa363a-3948-4c13-af64-360b12c9169f');\n",
              "          const dataTable =\n",
              "            await google.colab.kernel.invokeFunction('convertToInteractive',\n",
              "                                                     [key], {});\n",
              "          if (!dataTable) return;\n",
              "\n",
              "          const docLinkHtml = 'Like what you see? Visit the ' +\n",
              "            '<a target=\"_blank\" href=https://colab.research.google.com/notebooks/data_table.ipynb>data table notebook</a>'\n",
              "            + ' to learn more about interactive tables.';\n",
              "          element.innerHTML = '';\n",
              "          dataTable['output_type'] = 'display_data';\n",
              "          await google.colab.output.renderOutput(dataTable, element);\n",
              "          const docLink = document.createElement('div');\n",
              "          docLink.innerHTML = docLinkHtml;\n",
              "          element.appendChild(docLink);\n",
              "        }\n",
              "      </script>\n",
              "    </div>\n",
              "  </div>\n",
              "  "
            ],
            "text/plain": [
              "                      timestamp  Asset_ID  ...          VWAP    Target\n",
              "date                                       ...                        \n",
              "2018-01-01 00:01:00  1514764860         1  ...  13827.062093 -0.014643\n",
              "2018-01-01 00:02:00  1514764920         1  ...  13840.362591 -0.015037\n",
              "2018-01-01 00:03:00  1514764980         1  ...  13806.068014 -0.010309\n",
              "2018-01-01 00:04:00  1514765040         1  ...  13783.598101 -0.008999\n",
              "2018-01-01 00:05:00  1514765100         1  ...  13735.586842 -0.008079\n",
              "...                         ...       ...  ...           ...       ...\n",
              "2021-09-20 23:56:00  1632182160         1  ...  42935.489499       NaN\n",
              "2021-09-20 23:57:00  1632182220         1  ...  42879.576084       NaN\n",
              "2021-09-20 23:58:00  1632182280         1  ...  42844.090693       NaN\n",
              "2021-09-20 23:59:00  1632182340         1  ...  42935.761938       NaN\n",
              "2021-09-21 00:00:00  1632182400         1  ...  43011.414052       NaN\n",
              "\n",
              "[1956282 rows x 10 columns]"
            ]
          },
          "execution_count": 54,
          "metadata": {},
          "output_type": "execute_result"
        }
      ],
      "source": [
        "btc"
      ]
    },
    {
      "cell_type": "code",
      "execution_count": null,
      "metadata": {
        "id": "IpCLYJzDKIGD"
      },
      "outputs": [],
      "source": [
        "btc.dropna(axis=0,inplace=True)"
      ]
    },
    {
      "cell_type": "code",
      "execution_count": null,
      "metadata": {
        "colab": {
          "base_uri": "https://localhost:8080/"
        },
        "id": "QAgpDePrE5i1",
        "outputId": "abfda9f6-5b7e-43a1-fe7a-b07a119ce98f"
      },
      "outputs": [
        {
          "data": {
            "text/plain": [
              "date\n",
              "2018-01-01 00:01:00   -0.014643\n",
              "2018-01-01 00:02:00   -0.015037\n",
              "2018-01-01 00:03:00   -0.010309\n",
              "2018-01-01 00:04:00   -0.008999\n",
              "2018-01-01 00:05:00   -0.008079\n",
              "                         ...   \n",
              "2021-09-20 23:40:00    0.002084\n",
              "2021-09-20 23:41:00    0.003246\n",
              "2021-09-20 23:42:00    0.003108\n",
              "2021-09-20 23:43:00    0.002770\n",
              "2021-09-20 23:44:00    0.002726\n",
              "Name: Target, Length: 1955978, dtype: float64"
            ]
          },
          "execution_count": 59,
          "metadata": {},
          "output_type": "execute_result"
        }
      ],
      "source": [
        "btc['Target']"
      ]
    },
    {
      "cell_type": "code",
      "execution_count": null,
      "metadata": {
        "colab": {
          "base_uri": "https://localhost:8080/"
        },
        "id": "JYZly8KNEjGM",
        "outputId": "05ee2cac-7fa0-42f0-b512-5b51a42667f6"
      },
      "outputs": [
        {
          "data": {
            "text/plain": [
              "array([[0.00000000e+00, 0.00000000e+00, 2.60639940e-03, ...,\n",
              "        3.03219374e-03, 1.73157660e-01, 3.50255692e-01],\n",
              "       [5.11001087e-07, 0.00000000e+00, 2.67498885e-03, ...,\n",
              "        2.98379108e-03, 1.73373411e-01, 3.47876949e-01],\n",
              "       [1.02200217e-06, 0.00000000e+00, 6.02444071e-03, ...,\n",
              "        5.29185442e-03, 1.72817110e-01, 3.76470875e-01],\n",
              "       ...,\n",
              "       [9.99998978e-01, 0.00000000e+00, 3.01907930e-02, ...,\n",
              "        1.12858314e-02, 6.42309135e-01, 4.57616100e-01],\n",
              "       [9.99999489e-01, 0.00000000e+00, 2.43835522e-02, ...,\n",
              "        7.50114308e-03, 6.42308302e-01, 4.55572353e-01],\n",
              "       [1.00000000e+00, 0.00000000e+00, 2.47379311e-02, ...,\n",
              "        8.31511137e-03, 6.41192919e-01, 4.55303149e-01]])"
            ]
          },
          "execution_count": 60,
          "metadata": {},
          "output_type": "execute_result"
        }
      ],
      "source": [
        "from sklearn.preprocessing import MinMaxScaler\n",
        "scaler = MinMaxScaler(feature_range=(0,1))\n",
        "scaler.fit_transform(btc)"
      ]
    },
    {
      "cell_type": "code",
      "execution_count": null,
      "metadata": {
        "id": "FAGNPZq3KIJh"
      },
      "outputs": [],
      "source": [
        "btc.drop(columns=['timestamp','Asset_ID'],axis=1,inplace=True)"
      ]
    },
    {
      "cell_type": "code",
      "execution_count": null,
      "metadata": {
        "id": "sWNiU58qKIRA"
      },
      "outputs": [],
      "source": [
        "y = btc['Target']\n",
        "X = btc.drop(columns=['Target'],axis=1)\n",
        "btc=btc.values"
      ]
    },
    {
      "cell_type": "code",
      "execution_count": null,
      "metadata": {
        "id": "unzMGTyFKIXk"
      },
      "outputs": [],
      "source": [
        "from sklearn.model_selection import train_test_split\n",
        "X_train, X_test, y_train, y_test = train_test_split(X,y,test_size=.20,random_state=0)\n",
        "X_train=np.array(X_train)\n",
        "y_train=np.array(y_train)\n",
        "X_train=np.reshape(X_train,(X_train.shape[0],X_train.shape[1],1))"
      ]
    },
    {
      "cell_type": "code",
      "execution_count": null,
      "metadata": {
        "id": "6IrtWG_CBlTo"
      },
      "outputs": [],
      "source": [
        ""
      ]
    },
    {
      "cell_type": "code",
      "execution_count": null,
      "metadata": {
        "id": "4DP3OX07F3g-"
      },
      "outputs": [],
      "source": [
        "from tensorflow.keras.models import Sequential\n",
        "from tensorflow.keras.layers import Dense,LSTM,Dropout\n",
        "model = Sequential()\n",
        "model.add(LSTM(50,return_sequences=True,input_shape=(X_train.shape[1],1)))\n",
        "model.add(LSTM(50,return_sequences=True))\n",
        "model.add(LSTM(50,return_sequences=True))\n",
        "model.add(LSTM(50))\n",
        "model.add(Dense(1))"
      ]
    },
    {
      "cell_type": "code",
      "execution_count": null,
      "metadata": {
        "colab": {
          "base_uri": "https://localhost:8080/"
        },
        "id": "4C8yBa2NKT0M",
        "outputId": "5a8814fc-0cab-4c7b-fb65-0ed6f2af4208"
      },
      "outputs": [
        {
          "name": "stdout",
          "output_type": "stream",
          "text": [
            "Model: \"sequential_7\"\n",
            "_________________________________________________________________\n",
            " Layer (type)                Output Shape              Param #   \n",
            "=================================================================\n",
            " lstm_21 (LSTM)              (None, 7, 50)             10400     \n",
            "                                                                 \n",
            " lstm_22 (LSTM)              (None, 7, 50)             20200     \n",
            "                                                                 \n",
            " lstm_23 (LSTM)              (None, 7, 50)             20200     \n",
            "                                                                 \n",
            " lstm_24 (LSTM)              (None, 50)                20200     \n",
            "                                                                 \n",
            " dense_7 (Dense)             (None, 1)                 51        \n",
            "                                                                 \n",
            "=================================================================\n",
            "Total params: 71,051\n",
            "Trainable params: 71,051\n",
            "Non-trainable params: 0\n",
            "_________________________________________________________________\n"
          ]
        }
      ],
      "source": [
        "model.compile(loss='mean_squared_error',optimizer='adam')\n",
        "model.summary()"
      ]
    },
    {
      "cell_type": "code",
      "execution_count": null,
      "metadata": {
        "colab": {
          "background_save": true,
          "base_uri": "https://localhost:8080/"
        },
        "id": "Ai0dVdeDKT5p",
        "outputId": "d324251f-7d2c-47e1-e1c0-04c641678a5c"
      },
      "outputs": [
        {
          "name": "stdout",
          "output_type": "stream",
          "text": [
            "Epoch 1/10\n",
            "1529/1529 [==============================] - 282s 180ms/step - loss: 1.7651e-05\n",
            "Epoch 2/10\n",
            "1529/1529 [==============================] - 250s 163ms/step - loss: 4.1216e-06\n",
            "Epoch 3/10\n",
            "1529/1529 [==============================] - 245s 161ms/step - loss: 4.2335e-06\n",
            "Epoch 4/10\n",
            "1529/1529 [==============================] - 245s 160ms/step - loss: 4.2431e-06\n",
            "Epoch 5/10\n",
            "1529/1529 [==============================] - 245s 160ms/step - loss: 4.1696e-06\n",
            "Epoch 6/10\n",
            "1529/1529 [==============================] - 246s 161ms/step - loss: 4.1552e-06\n",
            "Epoch 7/10\n",
            "1529/1529 [==============================] - 244s 160ms/step - loss: 4.1270e-06\n",
            "Epoch 8/10\n",
            "1529/1529 [==============================] - 246s 161ms/step - loss: 4.1527e-06\n",
            "Epoch 9/10\n",
            "1529/1529 [==============================] - 245s 160ms/step - loss: 4.1126e-06\n",
            "Epoch 10/10\n",
            "1529/1529 [==============================] - 244s 159ms/step - loss: 4.1048e-06\n"
          ]
        },
        {
          "data": {
            "text/plain": [
              "<keras.callbacks.History at 0x7f9dffde0a90>"
            ]
          },
          "execution_count": null,
          "metadata": {},
          "output_type": "execute_result"
        }
      ],
      "source": [
        "model.fit(X_train,y_train,verbose=1,epochs=10,batch_size=1024)"
      ]
    },
    {
      "cell_type": "code",
      "execution_count": null,
      "metadata": {
        "colab": {
          "base_uri": "https://localhost:8080/",
          "height": 293
        },
        "id": "oOtAtEhs7uxU",
        "outputId": "3f5c39ac-5c76-4cdf-a70c-c1423ded3068"
      },
      "outputs": [
        {
          "data": {
            "text/plain": [
              "<matplotlib.axes._subplots.AxesSubplot at 0x7f9dff007450>"
            ]
          },
          "execution_count": 71,
          "metadata": {},
          "output_type": "execute_result"
        },
        {
          "data": {
            "image/png": "[encoded data removed]",
            "text/plain": [
              "<Figure size 432x288 with 1 Axes>"
            ]
          },
          "metadata": {},
          "output_type": "display_data"
        }
      ],
      "source": [
        " losses=pd.DataFrame(model.history.history)\n",
        "losses.plot()"
      ]
    },
    {
      "cell_type": "code",
      "execution_count": null,
      "metadata": {
        "id": "iaLE-fJROPjP"
      },
      "outputs": [],
      "source": [
        ""
      ]
    }
  ],
  "metadata": {
    "accelerator": "TPU",
    "colab": {
      "collapsed_sections": [],
      "name": "crypto prediction.ipynb",
      "provenance": []
    },
    "kernelspec": {
      "display_name": "Python 3",
      "name": "python3"
    },
    "language_info": {
      "name": "python"
    }
  },
  "nbformat": 4,
  "nbformat_minor": 0
}